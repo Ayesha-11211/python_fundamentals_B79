{
 "cells": [
  {
   "cell_type": "code",
   "execution_count": null,
   "id": "dba680ab",
   "metadata": {},
   "outputs": [],
   "source": [
    "introduction to python programming :"
   ]
  },
  {
   "cell_type": "code",
   "execution_count": null,
   "id": "959d0551",
   "metadata": {},
   "outputs": [],
   "source": []
  },
  {
   "cell_type": "code",
   "execution_count": null,
   "id": "3ff475e7",
   "metadata": {},
   "outputs": [],
   "source": [
    "understanding the consept of variables in python :"
   ]
  },
  {
   "cell_type": "code",
   "execution_count": null,
   "id": "ba08fa41",
   "metadata": {},
   "outputs": [],
   "source": []
  },
  {
   "cell_type": "code",
   "execution_count": null,
   "id": "9fe241a0",
   "metadata": {},
   "outputs": [],
   "source": [
    "x = 2\n",
    "y = 3"
   ]
  },
  {
   "cell_type": "code",
   "execution_count": 3,
   "id": "420341c8",
   "metadata": {},
   "outputs": [
    {
     "name": "stdout",
     "output_type": "stream",
     "text": [
      "5\n"
     ]
    }
   ],
   "source": [
    "z = x+y\n",
    "\n",
    "print(z)"
   ]
  },
  {
   "cell_type": "code",
   "execution_count": null,
   "id": "1ad9dcfd",
   "metadata": {},
   "outputs": [],
   "source": []
  },
  {
   "cell_type": "code",
   "execution_count": null,
   "id": "3959fbf9",
   "metadata": {},
   "outputs": [],
   "source": [
    "Rules for declaring the variables :"
   ]
  },
  {
   "cell_type": "code",
   "execution_count": null,
   "id": "1ba3225c",
   "metadata": {},
   "outputs": [],
   "source": [
    "Rule no 1 : No namespaces while declaring the variable"
   ]
  },
  {
   "cell_type": "code",
   "execution_count": null,
   "id": "de7c001f",
   "metadata": {},
   "outputs": [],
   "source": []
  },
  {
   "cell_type": "code",
   "execution_count": 4,
   "id": "6b3178d3",
   "metadata": {},
   "outputs": [
    {
     "ename": "SyntaxError",
     "evalue": "invalid syntax (1270515477.py, line 1)",
     "output_type": "error",
     "traceback": [
      "\u001b[1;36m  Cell \u001b[1;32mIn[4], line 1\u001b[1;36m\u001b[0m\n\u001b[1;33m    first name = 'Ayesha'\u001b[0m\n\u001b[1;37m          ^\u001b[0m\n\u001b[1;31mSyntaxError\u001b[0m\u001b[1;31m:\u001b[0m invalid syntax\n"
     ]
    }
   ],
   "source": [
    "first name = 'Ayesha'\n",
    "\n",
    "print(first nname)"
   ]
  },
  {
   "cell_type": "code",
   "execution_count": 5,
   "id": "03c0eb75",
   "metadata": {},
   "outputs": [
    {
     "name": "stdout",
     "output_type": "stream",
     "text": [
      "Ayesha\n"
     ]
    }
   ],
   "source": [
    "firstname = 'Ayesha'\n",
    "\n",
    "print(firstname)"
   ]
  },
  {
   "cell_type": "code",
   "execution_count": 6,
   "id": "6e58cd9b",
   "metadata": {},
   "outputs": [
    {
     "name": "stdout",
     "output_type": "stream",
     "text": [
      "Ayesha\n"
     ]
    }
   ],
   "source": [
    "first_name = 'Ayesha'\n",
    "\n",
    "print(first_name)"
   ]
  },
  {
   "cell_type": "code",
   "execution_count": null,
   "id": "dfdba682",
   "metadata": {},
   "outputs": [],
   "source": [
    "Rule no 2 : A variable name should not start with a number "
   ]
  },
  {
   "cell_type": "code",
   "execution_count": 8,
   "id": "60c0fba5",
   "metadata": {},
   "outputs": [
    {
     "ename": "SyntaxError",
     "evalue": "invalid decimal literal (424914981.py, line 1)",
     "output_type": "error",
     "traceback": [
      "\u001b[1;36m  Cell \u001b[1;32mIn[8], line 1\u001b[1;36m\u001b[0m\n\u001b[1;33m    1name = 'akhil'\u001b[0m\n\u001b[1;37m    ^\u001b[0m\n\u001b[1;31mSyntaxError\u001b[0m\u001b[1;31m:\u001b[0m invalid decimal literal\n"
     ]
    }
   ],
   "source": [
    "1name = 'akhil'\n",
    "\n",
    "print(1name)"
   ]
  },
  {
   "cell_type": "code",
   "execution_count": 9,
   "id": "cbcf917d",
   "metadata": {},
   "outputs": [
    {
     "name": "stdout",
     "output_type": "stream",
     "text": [
      "akhil\n"
     ]
    }
   ],
   "source": [
    "name1 = 'akhil'\n",
    "\n",
    "print(name1)"
   ]
  },
  {
   "cell_type": "code",
   "execution_count": null,
   "id": "dff2b2b0",
   "metadata": {},
   "outputs": [],
   "source": [
    "Rule no 3 : A variable name should not contain any special characters\n",
    "    \n",
    "    @ $ % & *"
   ]
  },
  {
   "cell_type": "code",
   "execution_count": 10,
   "id": "6b50b594",
   "metadata": {},
   "outputs": [
    {
     "ename": "SyntaxError",
     "evalue": "invalid syntax (2787978998.py, line 1)",
     "output_type": "error",
     "traceback": [
      "\u001b[1;36m  Cell \u001b[1;32mIn[10], line 1\u001b[1;36m\u001b[0m\n\u001b[1;33m    name@ = 'naveena'\u001b[0m\n\u001b[1;37m          ^\u001b[0m\n\u001b[1;31mSyntaxError\u001b[0m\u001b[1;31m:\u001b[0m invalid syntax\n"
     ]
    }
   ],
   "source": [
    "name@ = 'naveena'\n",
    "\n",
    "print(name@)"
   ]
  },
  {
   "cell_type": "code",
   "execution_count": null,
   "id": "c7c15dcf",
   "metadata": {},
   "outputs": [],
   "source": []
  },
  {
   "cell_type": "code",
   "execution_count": null,
   "id": "adebac0c",
   "metadata": {},
   "outputs": [],
   "source": [
    "Introduction to datatypes in python :"
   ]
  },
  {
   "cell_type": "code",
   "execution_count": null,
   "id": "3d73ceb9",
   "metadata": {},
   "outputs": [],
   "source": [
    "1. String -----> str\n",
    "\n",
    "2. Numbers ====> integers (int) , float(decimals) -----> float\n",
    "\n",
    "3. lists -----> list \n",
    "\n",
    "4. tuples -----> tuple\n",
    "\n",
    "5. dictionaries ----- dict"
   ]
  },
  {
   "cell_type": "code",
   "execution_count": null,
   "id": "e033ed3a",
   "metadata": {},
   "outputs": [],
   "source": []
  },
  {
   "cell_type": "code",
   "execution_count": null,
   "id": "d25678a4",
   "metadata": {},
   "outputs": [],
   "source": [
    "classification of datatypes :\n",
    "    \n",
    "    1. Mutable datatypes =====> which we can edit / alter\n",
    "    \n",
    "    2. immutable datatypes =====> which we cannot be able to edit / alter "
   ]
  },
  {
   "cell_type": "code",
   "execution_count": null,
   "id": "3e00f4c2",
   "metadata": {},
   "outputs": [],
   "source": []
  },
  {
   "cell_type": "code",
   "execution_count": null,
   "id": "ae30d009",
   "metadata": {},
   "outputs": [],
   "source": [
    "Introduction to sting datatype :\n",
    "\n",
    "difination : A string is a series of characters declared in quotes.\n",
    "    \n",
    "classification : It is classfied as an immutable datatype\n",
    "    \n",
    "how to declare the string......?\n",
    "\n",
    "1. st=ingle quote\n",
    "\n",
    "2. double quote"
   ]
  },
  {
   "cell_type": "code",
   "execution_count": null,
   "id": "a8f3b548",
   "metadata": {},
   "outputs": [],
   "source": []
  },
  {
   "cell_type": "code",
   "execution_count": 11,
   "id": "02fe6dfc",
   "metadata": {},
   "outputs": [
    {
     "name": "stdout",
     "output_type": "stream",
     "text": [
      "ravi\n"
     ]
    }
   ],
   "source": [
    "name = 'ravi'    #single quote\n",
    "\n",
    "print(name)"
   ]
  },
  {
   "cell_type": "code",
   "execution_count": 12,
   "id": "2db99131",
   "metadata": {},
   "outputs": [
    {
     "name": "stdout",
     "output_type": "stream",
     "text": [
      "david\n"
     ]
    }
   ],
   "source": [
    "name2 = \"david\"  #double quotes\n",
    "\n",
    "print(name2)"
   ]
  },
  {
   "cell_type": "code",
   "execution_count": null,
   "id": "97212941",
   "metadata": {},
   "outputs": [],
   "source": [
    "understanding the string methods:"
   ]
  },
  {
   "cell_type": "code",
   "execution_count": 13,
   "id": "8ba29d2f",
   "metadata": {},
   "outputs": [
    {
     "data": {
      "text/plain": [
       "str"
      ]
     },
     "execution_count": 13,
     "metadata": {},
     "output_type": "execute_result"
    }
   ],
   "source": [
    "type(name)"
   ]
  },
  {
   "cell_type": "code",
   "execution_count": 14,
   "id": "47a34b2b",
   "metadata": {},
   "outputs": [
    {
     "data": {
      "text/plain": [
       "str"
      ]
     },
     "execution_count": 14,
     "metadata": {},
     "output_type": "execute_result"
    }
   ],
   "source": [
    "type(name)"
   ]
  },
  {
   "cell_type": "code",
   "execution_count": null,
   "id": "fd09e25c",
   "metadata": {},
   "outputs": [],
   "source": []
  },
  {
   "cell_type": "code",
   "execution_count": 15,
   "id": "d68e5aee",
   "metadata": {},
   "outputs": [
    {
     "name": "stdout",
     "output_type": "stream",
     "text": [
      "sara sultana\n"
     ]
    }
   ],
   "source": [
    "fullname = \"sara sultana\"\n",
    "\n",
    "print(fullname)"
   ]
  },
  {
   "cell_type": "code",
   "execution_count": null,
   "id": "c68bb4ce",
   "metadata": {},
   "outputs": [],
   "source": []
  },
  {
   "cell_type": "code",
   "execution_count": null,
   "id": "a8f15c67",
   "metadata": {},
   "outputs": [],
   "source": []
  }
 ],
 "metadata": {
  "kernelspec": {
   "display_name": "Python 3 (ipykernel)",
   "language": "python",
   "name": "python3"
  },
  "language_info": {
   "codemirror_mode": {
    "name": "ipython",
    "version": 3
   },
   "file_extension": ".py",
   "mimetype": "text/x-python",
   "name": "python",
   "nbconvert_exporter": "python",
   "pygments_lexer": "ipython3",
   "version": "3.10.9"
  }
 },
 "nbformat": 4,
 "nbformat_minor": 5
}
